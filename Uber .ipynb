{
 "cells": [
  {
   "cell_type": "markdown",
   "id": "92ea854c",
   "metadata": {},
   "source": [
    "# <font color='red'> Uber Assignment"
   ]
  },
  {
   "cell_type": "markdown",
   "id": "b95a055a",
   "metadata": {},
   "source": [
    "### **Problem Statement**\n",
    "- You may have some experience of travelling to and from the airport. Have you ever used Uber or any other cab service for this travel? Did you at any time face the problem of cancellation by the driver or non-availability of cars?\n",
    "- Well, if these are the problems faced by customers, these very issues also impact the business of Uber. If drivers cancel the request of riders or if cars are unavailable, Uber loses out on its revenue. Let’s hear more about such problems that Uber faces during its operations.\n",
    "- As an analyst, you decide to address the problem Uber is facing - driver cancellation and non-availability of cars leading to loss of potential revenue. "
   ]
  },
  {
   "cell_type": "code",
   "execution_count": 142,
   "id": "5db86a62",
   "metadata": {},
   "outputs": [],
   "source": [
    "## import required libaries\n",
    "import numpy as np\n",
    "import pandas as pd\n",
    "import matplotlib.pyplot as plt\n",
    "import seaborn as sns\n",
    "import warnings\n",
    "warnings.filterwarnings('ignore')\n",
    "import datetime as dt"
   ]
  },
  {
   "cell_type": "code",
   "execution_count": 143,
   "id": "fd8d838a",
   "metadata": {},
   "outputs": [
    {
     "data": {
      "text/html": [
       "<div>\n",
       "<style scoped>\n",
       "    .dataframe tbody tr th:only-of-type {\n",
       "        vertical-align: middle;\n",
       "    }\n",
       "\n",
       "    .dataframe tbody tr th {\n",
       "        vertical-align: top;\n",
       "    }\n",
       "\n",
       "    .dataframe thead th {\n",
       "        text-align: right;\n",
       "    }\n",
       "</style>\n",
       "<table border=\"1\" class=\"dataframe\">\n",
       "  <thead>\n",
       "    <tr style=\"text-align: right;\">\n",
       "      <th></th>\n",
       "      <th>Request id</th>\n",
       "      <th>Pickup point</th>\n",
       "      <th>Driver id</th>\n",
       "      <th>Status</th>\n",
       "      <th>Request timestamp</th>\n",
       "      <th>Drop timestamp</th>\n",
       "    </tr>\n",
       "  </thead>\n",
       "  <tbody>\n",
       "    <tr>\n",
       "      <th>0</th>\n",
       "      <td>619</td>\n",
       "      <td>Airport</td>\n",
       "      <td>1.0</td>\n",
       "      <td>Trip Completed</td>\n",
       "      <td>11/7/2016 11:51</td>\n",
       "      <td>11/7/2016 13:00</td>\n",
       "    </tr>\n",
       "    <tr>\n",
       "      <th>1</th>\n",
       "      <td>867</td>\n",
       "      <td>Airport</td>\n",
       "      <td>1.0</td>\n",
       "      <td>Trip Completed</td>\n",
       "      <td>11/7/2016 17:57</td>\n",
       "      <td>11/7/2016 18:47</td>\n",
       "    </tr>\n",
       "    <tr>\n",
       "      <th>2</th>\n",
       "      <td>1807</td>\n",
       "      <td>City</td>\n",
       "      <td>1.0</td>\n",
       "      <td>Trip Completed</td>\n",
       "      <td>12/7/2016 9:17</td>\n",
       "      <td>12/7/2016 9:58</td>\n",
       "    </tr>\n",
       "    <tr>\n",
       "      <th>3</th>\n",
       "      <td>2532</td>\n",
       "      <td>Airport</td>\n",
       "      <td>1.0</td>\n",
       "      <td>Trip Completed</td>\n",
       "      <td>12/7/2016 21:08</td>\n",
       "      <td>12/7/2016 22:03</td>\n",
       "    </tr>\n",
       "    <tr>\n",
       "      <th>4</th>\n",
       "      <td>3112</td>\n",
       "      <td>City</td>\n",
       "      <td>1.0</td>\n",
       "      <td>Trip Completed</td>\n",
       "      <td>13-07-2016 08:33:16</td>\n",
       "      <td>13-07-2016 09:25:47</td>\n",
       "    </tr>\n",
       "  </tbody>\n",
       "</table>\n",
       "</div>"
      ],
      "text/plain": [
       "   Request id Pickup point  Driver id          Status    Request timestamp  \\\n",
       "0         619      Airport        1.0  Trip Completed      11/7/2016 11:51   \n",
       "1         867      Airport        1.0  Trip Completed      11/7/2016 17:57   \n",
       "2        1807         City        1.0  Trip Completed       12/7/2016 9:17   \n",
       "3        2532      Airport        1.0  Trip Completed      12/7/2016 21:08   \n",
       "4        3112         City        1.0  Trip Completed  13-07-2016 08:33:16   \n",
       "\n",
       "        Drop timestamp  \n",
       "0      11/7/2016 13:00  \n",
       "1      11/7/2016 18:47  \n",
       "2       12/7/2016 9:58  \n",
       "3      12/7/2016 22:03  \n",
       "4  13-07-2016 09:25:47  "
      ]
     },
     "execution_count": 143,
     "metadata": {},
     "output_type": "execute_result"
    }
   ],
   "source": [
    "## import dataset make into dataframe\n",
    "inp = pd.read_csv('Uber Request Data.csv')\n",
    "inp.head()"
   ]
  },
  {
   "cell_type": "code",
   "execution_count": 144,
   "id": "29ce77b1",
   "metadata": {},
   "outputs": [
    {
     "data": {
      "text/plain": [
       "(6745, 6)"
      ]
     },
     "execution_count": 144,
     "metadata": {},
     "output_type": "execute_result"
    }
   ],
   "source": [
    "## check the shape dataframe how many rows and columns in the given dataset\n",
    "inp.shape"
   ]
  },
  {
   "cell_type": "code",
   "execution_count": 145,
   "id": "c0270470",
   "metadata": {},
   "outputs": [
    {
     "name": "stdout",
     "output_type": "stream",
     "text": [
      "<class 'pandas.core.frame.DataFrame'>\n",
      "RangeIndex: 6745 entries, 0 to 6744\n",
      "Data columns (total 6 columns):\n",
      " #   Column             Non-Null Count  Dtype  \n",
      "---  ------             --------------  -----  \n",
      " 0   Request id         6745 non-null   int64  \n",
      " 1   Pickup point       6745 non-null   object \n",
      " 2   Driver id          4095 non-null   float64\n",
      " 3   Status             6745 non-null   object \n",
      " 4   Request timestamp  6745 non-null   object \n",
      " 5   Drop timestamp     2831 non-null   object \n",
      "dtypes: float64(1), int64(1), object(4)\n",
      "memory usage: 316.3+ KB\n"
     ]
    }
   ],
   "source": [
    "## check the datatypes in the dataframe\n",
    "inp.info()"
   ]
  },
  {
   "cell_type": "code",
   "execution_count": 146,
   "id": "319ff5ef",
   "metadata": {},
   "outputs": [
    {
     "data": {
      "text/plain": [
       "Index(['request id', 'pickup point', 'driver id', 'status',\n",
       "       'request timestamp', 'drop timestamp'],\n",
       "      dtype='object')"
      ]
     },
     "execution_count": 146,
     "metadata": {},
     "output_type": "execute_result"
    }
   ],
   "source": [
    "## time consumptions convert high case into low case columns\n",
    "inp.columns = [x.lower() for x in inp.columns]\n",
    "inp.columns"
   ]
  },
  {
   "cell_type": "code",
   "execution_count": 147,
   "id": "e2d567a8",
   "metadata": {},
   "outputs": [
    {
     "data": {
      "text/plain": [
       "Index(['request_id', 'pickup_point', 'driver_id', 'status',\n",
       "       'request_timestamp', 'drop_timestamp'],\n",
       "      dtype='object')"
      ]
     },
     "execution_count": 147,
     "metadata": {},
     "output_type": "execute_result"
    }
   ],
   "source": [
    "## given columns there is certain spaces just replace with underscore\n",
    "inp.columns = inp.columns.str.replace(' ','_')\n",
    "inp.columns"
   ]
  },
  {
   "cell_type": "code",
   "execution_count": 148,
   "id": "db2726ec",
   "metadata": {},
   "outputs": [
    {
     "data": {
      "text/plain": [
       "True"
      ]
     },
     "execution_count": 148,
     "metadata": {},
     "output_type": "execute_result"
    }
   ],
   "source": [
    "## check duplicates in the request_id \n",
    "sum(inp.duplicated(subset='request_id'))==0"
   ]
  },
  {
   "cell_type": "code",
   "execution_count": 149,
   "id": "e571028f",
   "metadata": {},
   "outputs": [
    {
     "data": {
      "text/plain": [
       "City       3507\n",
       "Airport    3238\n",
       "Name: pickup_point, dtype: int64"
      ]
     },
     "execution_count": 149,
     "metadata": {},
     "output_type": "execute_result"
    }
   ],
   "source": [
    "## total value counts in the pickup_point\n",
    "inp['pickup_point'].value_counts()"
   ]
  },
  {
   "cell_type": "code",
   "execution_count": 150,
   "id": "ab8d5fff",
   "metadata": {},
   "outputs": [
    {
     "data": {
      "text/plain": [
       "Trip Completed       2831\n",
       "No Cars Available    2650\n",
       "Cancelled            1264\n",
       "Name: status, dtype: int64"
      ]
     },
     "execution_count": 150,
     "metadata": {},
     "output_type": "execute_result"
    }
   ],
   "source": [
    "## total value counts in the status columns\n",
    "inp['status'].value_counts()"
   ]
  },
  {
   "cell_type": "code",
   "execution_count": 151,
   "id": "9b0364ae",
   "metadata": {},
   "outputs": [
    {
     "name": "stdout",
     "output_type": "stream",
     "text": [
      "request_id              0\n",
      "pickup_point            0\n",
      "driver_id            2650\n",
      "status                  0\n",
      "request_timestamp       0\n",
      "drop_timestamp       3914\n",
      "dtype: int64\n",
      "------------------------------------------------------------------------------------------------------------------------------------------------------------------------------------------------------------------------------------------------\n"
     ]
    },
    {
     "data": {
      "text/plain": [
       "6564"
      ]
     },
     "execution_count": 151,
     "metadata": {},
     "output_type": "execute_result"
    }
   ],
   "source": [
    "## check the missing values in the dataframe\n",
    "print(inp.isnull().sum())\n",
    "print('------'*40)\n",
    "### total missing values in the dataframe\n",
    "sum(inp.isnull().sum())"
   ]
  },
  {
   "cell_type": "code",
   "execution_count": 152,
   "id": "4cbc0f9f",
   "metadata": {},
   "outputs": [
    {
     "data": {
      "text/html": [
       "<div>\n",
       "<style scoped>\n",
       "    .dataframe tbody tr th:only-of-type {\n",
       "        vertical-align: middle;\n",
       "    }\n",
       "\n",
       "    .dataframe tbody tr th {\n",
       "        vertical-align: top;\n",
       "    }\n",
       "\n",
       "    .dataframe thead th {\n",
       "        text-align: right;\n",
       "    }\n",
       "</style>\n",
       "<table border=\"1\" class=\"dataframe\">\n",
       "  <thead>\n",
       "    <tr style=\"text-align: right;\">\n",
       "      <th></th>\n",
       "      <th>request_id</th>\n",
       "      <th>pickup_point</th>\n",
       "      <th>driver_id</th>\n",
       "      <th>status</th>\n",
       "      <th>request_time</th>\n",
       "      <th>drop_time</th>\n",
       "    </tr>\n",
       "  </thead>\n",
       "  <tbody>\n",
       "    <tr>\n",
       "      <th>0</th>\n",
       "      <td>619</td>\n",
       "      <td>Airport</td>\n",
       "      <td>1.0</td>\n",
       "      <td>Trip Completed</td>\n",
       "      <td>2016-11-07 11:51:00</td>\n",
       "      <td>2016-11-07 13:00:00</td>\n",
       "    </tr>\n",
       "    <tr>\n",
       "      <th>1</th>\n",
       "      <td>867</td>\n",
       "      <td>Airport</td>\n",
       "      <td>1.0</td>\n",
       "      <td>Trip Completed</td>\n",
       "      <td>2016-11-07 17:57:00</td>\n",
       "      <td>2016-11-07 18:47:00</td>\n",
       "    </tr>\n",
       "    <tr>\n",
       "      <th>2</th>\n",
       "      <td>1807</td>\n",
       "      <td>City</td>\n",
       "      <td>1.0</td>\n",
       "      <td>Trip Completed</td>\n",
       "      <td>2016-12-07 09:17:00</td>\n",
       "      <td>2016-12-07 09:58:00</td>\n",
       "    </tr>\n",
       "    <tr>\n",
       "      <th>3</th>\n",
       "      <td>2532</td>\n",
       "      <td>Airport</td>\n",
       "      <td>1.0</td>\n",
       "      <td>Trip Completed</td>\n",
       "      <td>2016-12-07 21:08:00</td>\n",
       "      <td>2016-12-07 22:03:00</td>\n",
       "    </tr>\n",
       "    <tr>\n",
       "      <th>4</th>\n",
       "      <td>3112</td>\n",
       "      <td>City</td>\n",
       "      <td>1.0</td>\n",
       "      <td>Trip Completed</td>\n",
       "      <td>2016-07-13 08:33:16</td>\n",
       "      <td>2016-07-13 09:25:47</td>\n",
       "    </tr>\n",
       "  </tbody>\n",
       "</table>\n",
       "</div>"
      ],
      "text/plain": [
       "   request_id pickup_point  driver_id          status        request_time  \\\n",
       "0         619      Airport        1.0  Trip Completed 2016-11-07 11:51:00   \n",
       "1         867      Airport        1.0  Trip Completed 2016-11-07 17:57:00   \n",
       "2        1807         City        1.0  Trip Completed 2016-12-07 09:17:00   \n",
       "3        2532      Airport        1.0  Trip Completed 2016-12-07 21:08:00   \n",
       "4        3112         City        1.0  Trip Completed 2016-07-13 08:33:16   \n",
       "\n",
       "            drop_time  \n",
       "0 2016-11-07 13:00:00  \n",
       "1 2016-11-07 18:47:00  \n",
       "2 2016-12-07 09:58:00  \n",
       "3 2016-12-07 22:03:00  \n",
       "4 2016-07-13 09:25:47  "
      ]
     },
     "execution_count": 152,
     "metadata": {},
     "output_type": "execute_result"
    }
   ],
   "source": [
    "### convert the request_time and drop_time in object into datetime\n",
    "inp['request_time'] = pd.to_datetime(inp['request_timestamp'])\n",
    "inp['drop_time'] = pd.to_datetime(inp['drop_timestamp'])\n",
    "## after converting drop the columns \n",
    "inp.drop(['request_timestamp','drop_timestamp'],axis=1, inplace=True)\n",
    "inp.head()"
   ]
  },
  {
   "cell_type": "code",
   "execution_count": 153,
   "id": "420fc631",
   "metadata": {},
   "outputs": [
    {
     "data": {
      "text/html": [
       "<div>\n",
       "<style scoped>\n",
       "    .dataframe tbody tr th:only-of-type {\n",
       "        vertical-align: middle;\n",
       "    }\n",
       "\n",
       "    .dataframe tbody tr th {\n",
       "        vertical-align: top;\n",
       "    }\n",
       "\n",
       "    .dataframe thead th {\n",
       "        text-align: right;\n",
       "    }\n",
       "</style>\n",
       "<table border=\"1\" class=\"dataframe\">\n",
       "  <thead>\n",
       "    <tr style=\"text-align: right;\">\n",
       "      <th></th>\n",
       "      <th>request_id</th>\n",
       "      <th>pickup_point</th>\n",
       "      <th>driver_id</th>\n",
       "      <th>status</th>\n",
       "      <th>request_time</th>\n",
       "      <th>drop_time</th>\n",
       "      <th>request_hr</th>\n",
       "      <th>request_day</th>\n",
       "    </tr>\n",
       "  </thead>\n",
       "  <tbody>\n",
       "    <tr>\n",
       "      <th>0</th>\n",
       "      <td>619</td>\n",
       "      <td>Airport</td>\n",
       "      <td>1.0</td>\n",
       "      <td>Trip Completed</td>\n",
       "      <td>2016-11-07 11:51:00</td>\n",
       "      <td>2016-11-07 13:00:00</td>\n",
       "      <td>11</td>\n",
       "      <td>7</td>\n",
       "    </tr>\n",
       "    <tr>\n",
       "      <th>1</th>\n",
       "      <td>867</td>\n",
       "      <td>Airport</td>\n",
       "      <td>1.0</td>\n",
       "      <td>Trip Completed</td>\n",
       "      <td>2016-11-07 17:57:00</td>\n",
       "      <td>2016-11-07 18:47:00</td>\n",
       "      <td>17</td>\n",
       "      <td>7</td>\n",
       "    </tr>\n",
       "    <tr>\n",
       "      <th>2</th>\n",
       "      <td>1807</td>\n",
       "      <td>City</td>\n",
       "      <td>1.0</td>\n",
       "      <td>Trip Completed</td>\n",
       "      <td>2016-12-07 09:17:00</td>\n",
       "      <td>2016-12-07 09:58:00</td>\n",
       "      <td>9</td>\n",
       "      <td>7</td>\n",
       "    </tr>\n",
       "    <tr>\n",
       "      <th>3</th>\n",
       "      <td>2532</td>\n",
       "      <td>Airport</td>\n",
       "      <td>1.0</td>\n",
       "      <td>Trip Completed</td>\n",
       "      <td>2016-12-07 21:08:00</td>\n",
       "      <td>2016-12-07 22:03:00</td>\n",
       "      <td>21</td>\n",
       "      <td>7</td>\n",
       "    </tr>\n",
       "    <tr>\n",
       "      <th>4</th>\n",
       "      <td>3112</td>\n",
       "      <td>City</td>\n",
       "      <td>1.0</td>\n",
       "      <td>Trip Completed</td>\n",
       "      <td>2016-07-13 08:33:16</td>\n",
       "      <td>2016-07-13 09:25:47</td>\n",
       "      <td>8</td>\n",
       "      <td>13</td>\n",
       "    </tr>\n",
       "  </tbody>\n",
       "</table>\n",
       "</div>"
      ],
      "text/plain": [
       "   request_id pickup_point  driver_id          status        request_time  \\\n",
       "0         619      Airport        1.0  Trip Completed 2016-11-07 11:51:00   \n",
       "1         867      Airport        1.0  Trip Completed 2016-11-07 17:57:00   \n",
       "2        1807         City        1.0  Trip Completed 2016-12-07 09:17:00   \n",
       "3        2532      Airport        1.0  Trip Completed 2016-12-07 21:08:00   \n",
       "4        3112         City        1.0  Trip Completed 2016-07-13 08:33:16   \n",
       "\n",
       "            drop_time  request_hr  request_day  \n",
       "0 2016-11-07 13:00:00          11            7  \n",
       "1 2016-11-07 18:47:00          17            7  \n",
       "2 2016-12-07 09:58:00           9            7  \n",
       "3 2016-12-07 22:03:00          21            7  \n",
       "4 2016-07-13 09:25:47           8           13  "
      ]
     },
     "execution_count": 153,
     "metadata": {},
     "output_type": "execute_result"
    }
   ],
   "source": [
    "## extracting the request_time into hour and day\n",
    "inp['request_hr'] = inp['request_time'].dt.hour\n",
    "inp['request_day'] = inp['request_time'].dt.day\n",
    "inp.head()"
   ]
  },
  {
   "cell_type": "code",
   "execution_count": 154,
   "id": "4ca3f795",
   "metadata": {},
   "outputs": [
    {
     "data": {
      "text/plain": [
       "<AxesSubplot:xlabel='request_day', ylabel='count'>"
      ]
     },
     "execution_count": 154,
     "metadata": {},
     "output_type": "execute_result"
    },
    {
     "data": {
      "image/png": "[encoded data removed]",
      "text/plain": [
       "<Figure size 432x288 with 1 Axes>"
      ]
     },
     "metadata": {
      "needs_background": "light"
     },
     "output_type": "display_data"
    }
   ],
   "source": [
    "## plot the request day from the pickup point\n",
    "sns.countplot(data=inp, x='request_day', hue='pickup_point')"
   ]
  },
  {
   "cell_type": "code",
   "execution_count": 155,
   "id": "1e4303e3",
   "metadata": {},
   "outputs": [
    {
     "data": {
      "text/plain": [
       "<AxesSubplot:xlabel='request_hr', ylabel='count'>"
      ]
     },
     "execution_count": 155,
     "metadata": {},
     "output_type": "execute_result"
    },
    {
     "data": {
      "image/png": "[encoded data removed]",
      "text/plain": [
       "<Figure size 432x288 with 1 Axes>"
      ]
     },
     "metadata": {
      "needs_background": "light"
     },
     "output_type": "display_data"
    }
   ],
   "source": [
    "## plot the request_hr from the pickup point\n",
    "sns.countplot(data=inp, x='request_hr', hue='pickup_point')"
   ]
  },
  {
   "cell_type": "code",
   "execution_count": 156,
   "id": "48edff11",
   "metadata": {},
   "outputs": [
    {
     "data": {
      "text/plain": [
       "night            1924\n",
       "mid night        1740\n",
       "morning rush     1658\n",
       "early morning     578\n",
       "afternoon         515\n",
       "evening           330\n",
       "Name: time_slot, dtype: int64"
      ]
     },
     "execution_count": 156,
     "metadata": {},
     "output_type": "execute_result"
    }
   ],
   "source": [
    "## converting request_hrs into time_of_day request timeslot \n",
    "def timeslot(x):\n",
    "    if x < 5:\n",
    "        return('early morning')\n",
    "    elif 5 < x < 10:\n",
    "        return('morning rush')\n",
    "    elif 10 < x < 14:\n",
    "        return('afternoon')\n",
    "    elif 14 < x < 17:\n",
    "        return('evening')\n",
    "    elif 17 < x < 22:\n",
    "        return('night')\n",
    "    else:\n",
    "        return('mid night')\n",
    "inp['time_slot'] = inp['request_hr'].apply(lambda x: timeslot(x))\n",
    "inp['time_slot'].value_counts()"
   ]
  },
  {
   "cell_type": "code",
   "execution_count": 157,
   "id": "2af133ac",
   "metadata": {},
   "outputs": [
    {
     "data": {
      "image/png": "[encoded data removed]",
      "text/plain": [
       "<Figure size 864x360 with 1 Axes>"
      ]
     },
     "metadata": {
      "needs_background": "light"
     },
     "output_type": "display_data"
    }
   ],
   "source": [
    "## plot time_of_day into percentage\n",
    "plt.figure(figsize=(12,5))\n",
    "total = len(inp)\n",
    "ax = sns.countplot(data=inp, x='time_slot')\n",
    "for p in ax.patches:\n",
    "    percentage = '{:.1f}%'.format(round(100*(p.get_height()/total),2))\n",
    "    x = p.get_x()+0.4\n",
    "    y = p.get_height()+25\n",
    "    ax.annotate(percentage, (x, y))\n",
    "plt.show()"
   ]
  },
  {
   "cell_type": "code",
   "execution_count": 158,
   "id": "821c4ef7",
   "metadata": {},
   "outputs": [
    {
     "data": {
      "text/plain": [
       "<AxesSubplot:xlabel='time_slot', ylabel='count'>"
      ]
     },
     "execution_count": 158,
     "metadata": {},
     "output_type": "execute_result"
    },
    {
     "data": {
      "image/png": "[encoded data removed]",
      "text/plain": [
       "<Figure size 576x288 with 1 Axes>"
      ]
     },
     "metadata": {
      "needs_background": "light"
     },
     "output_type": "display_data"
    }
   ],
   "source": [
    "## check time_of_days into status and visualize it\n",
    "plt.figure(figsize=(8,4))\n",
    "sns.countplot(data=inp, x='time_slot', hue='status')"
   ]
  },
  {
   "cell_type": "markdown",
   "id": "81d27371",
   "metadata": {},
   "source": [
    " - Morning Rush high peak most cab drivers cancelled the request \n",
    " - Night Rush high peak no cars available"
   ]
  },
  {
   "cell_type": "code",
   "execution_count": 159,
   "id": "75457b76",
   "metadata": {},
   "outputs": [
    {
     "data": {
      "image/png": "[encoded data removed]",
      "text/plain": [
       "<Figure size 576x432 with 1 Axes>"
      ]
     },
     "metadata": {
      "needs_background": "light"
     },
     "output_type": "display_data"
    }
   ],
   "source": [
    "## take time_slot as morning_rush check with the pickup_point and status\n",
    "morning_rush = inp[inp['time_slot']=='morning rush']\n",
    "\n",
    "fig,ax = plt.subplots(figsize=(8,6))\n",
    "total = len(morning_rush)\n",
    "ax = sns.countplot(data=morning_rush, x='pickup_point', hue='status')\n",
    "for p in ax.patches:\n",
    "    percentage = \"{:.1f}%\".format(round(100*(p.get_height()/total)),2)\n",
    "    x = p.get_x()+0.1\n",
    "    y = p.get_height()+10\n",
    "    ax.annotate(percentage, (x,y))\n",
    "plt.show()"
   ]
  },
  {
   "cell_type": "markdown",
   "id": "8041e343",
   "metadata": {},
   "source": [
    "- Morning Rush City to Airport as been cabs are cancelled alot"
   ]
  },
  {
   "cell_type": "code",
   "execution_count": 160,
   "id": "bc999ac1",
   "metadata": {},
   "outputs": [
    {
     "data": {
      "text/plain": [
       "648"
      ]
     },
     "execution_count": 160,
     "metadata": {},
     "output_type": "execute_result"
    }
   ],
   "source": [
    "## check the how many request are cancelled in the morning rush from city \n",
    "cancel_morning_rush_city = morning_rush.loc[(morning_rush['pickup_point']=='City') & (morning_rush['status']=='Cancelled')]\n",
    "len(cancel_morning_rush_city)"
   ]
  },
  {
   "cell_type": "code",
   "execution_count": 161,
   "id": "bfc6c2b5",
   "metadata": {},
   "outputs": [
    {
     "data": {
      "text/plain": [
       "372"
      ]
     },
     "execution_count": 161,
     "metadata": {},
     "output_type": "execute_result"
    }
   ],
   "source": [
    "## check the how many Trip_completed in the morning rush from city \n",
    "trip_completed_morning_rush_city = morning_rush.loc[(morning_rush['pickup_point']=='City') & (morning_rush['status']=='Trip Completed')]\n",
    "len(trip_completed_morning_rush_city)"
   ]
  },
  {
   "cell_type": "code",
   "execution_count": 162,
   "id": "23fea8d2",
   "metadata": {},
   "outputs": [
    {
     "data": {
      "text/plain": [
       "304"
      ]
     },
     "execution_count": 162,
     "metadata": {},
     "output_type": "execute_result"
    }
   ],
   "source": [
    "## check no cars available in the morning rush from city \n",
    "no_car_morning_rush_city = morning_rush.loc[(morning_rush['pickup_point']=='City')&(morning_rush['status']=='No Cars Available')]\n",
    "len(no_car_morning_rush_city)"
   ]
  },
  {
   "cell_type": "code",
   "execution_count": 163,
   "id": "6bc30abc",
   "metadata": {},
   "outputs": [
    {
     "data": {
      "text/plain": [
       "1324"
      ]
     },
     "execution_count": 163,
     "metadata": {},
     "output_type": "execute_result"
    }
   ],
   "source": [
    "## total demand for morning rush from the city\n",
    "total_demand_morning_rush_city = morning_rush.loc[(morning_rush['pickup_point']=='City')]\n",
    "len(total_demand_morning_rush_city)"
   ]
  },
  {
   "cell_type": "code",
   "execution_count": 164,
   "id": "f8b27c16",
   "metadata": {},
   "outputs": [
    {
     "data": {
      "text/plain": [
       "19"
      ]
     },
     "execution_count": 164,
     "metadata": {},
     "output_type": "execute_result"
    }
   ],
   "source": [
    "## check the how many request are cancelled in the morning rush from airport\n",
    "cancel_morning_rush_airport = morning_rush.loc[(morning_rush['pickup_point']=='Airport')&(morning_rush['status']=='Cancelled')]\n",
    "len(cancel_morning_rush_airport)"
   ]
  },
  {
   "cell_type": "code",
   "execution_count": 165,
   "id": "358c4166",
   "metadata": {},
   "outputs": [
    {
     "data": {
      "text/plain": [
       "297"
      ]
     },
     "execution_count": 165,
     "metadata": {},
     "output_type": "execute_result"
    }
   ],
   "source": [
    "## check the how many Trip_completed in the morning rush from airport \n",
    "trip_complete_morning_rush_airport = morning_rush.loc[(morning_rush['pickup_point']=='Airport') & (morning_rush['status']=='Trip Completed')]\n",
    "len(trip_complete_morning_rush_airport)"
   ]
  },
  {
   "cell_type": "code",
   "execution_count": 166,
   "id": "c12cb289",
   "metadata": {},
   "outputs": [
    {
     "data": {
      "text/plain": [
       "18"
      ]
     },
     "execution_count": 166,
     "metadata": {},
     "output_type": "execute_result"
    }
   ],
   "source": [
    "## check no cars available in the morning rush from airport\n",
    "no_car_morning_rush_airport = morning_rush.loc[(morning_rush['pickup_point']=='Airport')&(morning_rush['status']=='No Cars Available')]\n",
    "len(no_car_morning_rush_airport)"
   ]
  },
  {
   "cell_type": "code",
   "execution_count": 167,
   "id": "12ecf6c5",
   "metadata": {},
   "outputs": [
    {
     "data": {
      "text/plain": [
       "334"
      ]
     },
     "execution_count": 167,
     "metadata": {},
     "output_type": "execute_result"
    }
   ],
   "source": [
    "## total demand for morning rush from the airport\n",
    "total_demand_morning_rush_airport = morning_rush.loc[(morning_rush['pickup_point']=='Airport')]\n",
    "len(total_demand_morning_rush_airport)"
   ]
  },
  {
   "cell_type": "code",
   "execution_count": 168,
   "id": "a27023fb",
   "metadata": {},
   "outputs": [
    {
     "data": {
      "image/png": "[encoded data removed]",
      "text/plain": [
       "<Figure size 720x432 with 1 Axes>"
      ]
     },
     "metadata": {
      "needs_background": "light"
     },
     "output_type": "display_data"
    }
   ],
   "source": [
    "## check percentage in the night rush from pickup_point and status\n",
    "night_rush = inp[inp['time_slot']=='night']\n",
    "\n",
    "fig,ax = plt.subplots(figsize=(10,6))\n",
    "total = len(night_rush)\n",
    "sns.countplot(data=night_rush, x='pickup_point', hue='status')\n",
    "for p in ax.patches:\n",
    "    percentage = \"{:.1f}%\".format(round(100*(p.get_height()/total)),2)\n",
    "    x = p.get_x()+0.1\n",
    "    y = p.get_height()+10\n",
    "    ax.annotate(percentage, (x,y))\n",
    "plt.show()"
   ]
  },
  {
   "cell_type": "markdown",
   "id": "9a865ece",
   "metadata": {},
   "source": [
    "- we can see that no cars available from airport to city"
   ]
  },
  {
   "cell_type": "code",
   "execution_count": 169,
   "id": "3b97eb36",
   "metadata": {},
   "outputs": [
    {
     "data": {
      "text/plain": [
       "1106"
      ]
     },
     "execution_count": 169,
     "metadata": {},
     "output_type": "execute_result"
    }
   ],
   "source": [
    "## total no cars available from airport in the night rush\n",
    "no_car_airport = night_rush.loc[(night_rush['pickup_point']=='Airport')&(night_rush['status']=='No Cars Available')]\n",
    "len(no_car_airport)"
   ]
  },
  {
   "cell_type": "code",
   "execution_count": 170,
   "id": "bb2d9c1a",
   "metadata": {},
   "outputs": [
    {
     "data": {
      "text/plain": [
       "299"
      ]
     },
     "execution_count": 170,
     "metadata": {},
     "output_type": "execute_result"
    }
   ],
   "source": [
    "## total trip_completed from airport in the night_rush\n",
    "trip_complete_airport = night_rush.loc[(night_rush['pickup_point']=='Airport') & (night_rush['status']=='Trip Completed')]\n",
    "len(trip_complete_airport)"
   ]
  },
  {
   "cell_type": "code",
   "execution_count": 171,
   "id": "1ab77ef3",
   "metadata": {},
   "outputs": [
    {
     "data": {
      "text/plain": [
       "87"
      ]
     },
     "execution_count": 171,
     "metadata": {},
     "output_type": "execute_result"
    }
   ],
   "source": [
    "## total cancel request from airport in night rush\n",
    "cancel_night_rush_airport = night_rush.loc[(night_rush['pickup_point']=='Airport')&(night_rush['status']=='Cancelled')]\n",
    "len(cancel_night_rush_airport)"
   ]
  },
  {
   "cell_type": "code",
   "execution_count": 172,
   "id": "871bc4b2",
   "metadata": {},
   "outputs": [
    {
     "data": {
      "text/plain": [
       "1492"
      ]
     },
     "execution_count": 172,
     "metadata": {},
     "output_type": "execute_result"
    }
   ],
   "source": [
    "## total demand supply in the airport in night rush\n",
    "total_demand_night_rush_airport = night_rush.loc[(night_rush['pickup_point']=='Airport')]\n",
    "len(total_demand_night_rush_airport)"
   ]
  },
  {
   "cell_type": "code",
   "execution_count": 173,
   "id": "9d88b6c7",
   "metadata": {},
   "outputs": [
    {
     "data": {
      "text/plain": [
       "54"
      ]
     },
     "execution_count": 173,
     "metadata": {},
     "output_type": "execute_result"
    }
   ],
   "source": [
    "## check the total no cars are available from city in night rush\n",
    "no_car_city = night_rush.loc[(night_rush['pickup_point']=='City')&(night_rush['status']=='No Cars Available')]\n",
    "len(no_car_city)"
   ]
  },
  {
   "cell_type": "code",
   "execution_count": 174,
   "id": "2d9c723f",
   "metadata": {},
   "outputs": [
    {
     "data": {
      "text/plain": [
       "334"
      ]
     },
     "execution_count": 174,
     "metadata": {},
     "output_type": "execute_result"
    }
   ],
   "source": [
    "## check the total trips are completed from city in night rush\n",
    "trip_complete_city = night_rush.loc[(night_rush['pickup_point']=='City')&(night_rush['status']=='Trip Completed')]\n",
    "len(trip_complete_city)"
   ]
  },
  {
   "cell_type": "code",
   "execution_count": 175,
   "id": "a9bada52",
   "metadata": {},
   "outputs": [
    {
     "data": {
      "text/plain": [
       "44"
      ]
     },
     "execution_count": 175,
     "metadata": {},
     "output_type": "execute_result"
    }
   ],
   "source": [
    "## check the total cancel request from city in night_rush\n",
    "cancel_night_rush_city = night_rush.loc[(night_rush['pickup_point']=='City')&(night_rush['status']=='Cancelled')]\n",
    "len(cancel_night_rush_city)"
   ]
  },
  {
   "cell_type": "code",
   "execution_count": 176,
   "id": "859fdb9a",
   "metadata": {},
   "outputs": [
    {
     "data": {
      "text/plain": [
       "432"
      ]
     },
     "execution_count": 176,
     "metadata": {},
     "output_type": "execute_result"
    }
   ],
   "source": [
    "## total demand of city in night rush \n",
    "total_demand_night_rush_city = night_rush.loc[(night_rush['pickup_point']=='City')]\n",
    "len(total_demand_night_rush_city)"
   ]
  },
  {
   "cell_type": "code",
   "execution_count": 177,
   "id": "80040b93",
   "metadata": {},
   "outputs": [],
   "source": [
    "def piechart(dataframe):\n",
    "    labels = dataframe.index.values\n",
    "    size = dataframe['status'].values\n",
    "    fig,ax = plt.subplots()\n",
    "    ax.pie(size, labels=labels, autopct='%1.1f%%',startangle=90)\n",
    "    ax.axis('equal')\n",
    "    plt.show()"
   ]
  },
  {
   "cell_type": "code",
   "execution_count": 178,
   "id": "9dfab4f8",
   "metadata": {},
   "outputs": [
    {
     "data": {
      "image/png": "[encoded data removed]",
      "text/plain": [
       "<Figure size 432x288 with 1 Axes>"
      ]
     },
     "metadata": {},
     "output_type": "display_data"
    }
   ],
   "source": [
    "df_city = inp.loc[(inp['pickup_point']=='City')&(inp['time_slot']=='morning rush')]\n",
    "df = pd.DataFrame(df_city['status'].value_counts())\n",
    "piechart(df)"
   ]
  },
  {
   "cell_type": "code",
   "execution_count": 179,
   "id": "f83b7185",
   "metadata": {},
   "outputs": [
    {
     "data": {
      "image/png": "[encoded data removed]",
      "text/plain": [
       "<Figure size 432x288 with 1 Axes>"
      ]
     },
     "metadata": {},
     "output_type": "display_data"
    }
   ],
   "source": [
    "df_airport = inp.loc[(inp['pickup_point']=='Airport')&(inp['time_slot']=='morning rush')]\n",
    "df = pd.DataFrame(df_airport['status'].value_counts())\n",
    "piechart(df)"
   ]
  },
  {
   "cell_type": "code",
   "execution_count": 180,
   "id": "945acbc5",
   "metadata": {},
   "outputs": [
    {
     "data": {
      "image/png": "[encoded data removed]",
      "text/plain": [
       "<Figure size 432x288 with 1 Axes>"
      ]
     },
     "metadata": {},
     "output_type": "display_data"
    }
   ],
   "source": [
    "df_city = inp.loc[(inp['pickup_point']=='City')&(inp['time_slot']=='night')]\n",
    "df = pd.DataFrame(df_city['status'].value_counts())\n",
    "piechart(df)"
   ]
  },
  {
   "cell_type": "code",
   "execution_count": 181,
   "id": "87fc5910",
   "metadata": {},
   "outputs": [
    {
     "data": {
      "image/png": "[encoded data removed]",
      "text/plain": [
       "<Figure size 432x288 with 1 Axes>"
      ]
     },
     "metadata": {},
     "output_type": "display_data"
    }
   ],
   "source": [
    "df_airport = inp.loc[(inp['pickup_point']=='Airport')&(inp['time_slot']=='night')]\n",
    "df = pd.DataFrame(df_airport['status'].value_counts())\n",
    "piechart(df)"
   ]
  },
  {
   "cell_type": "markdown",
   "id": "496fadad",
   "metadata": {},
   "source": [
    "**Observation so far:**\n",
    "- The problematic status are 'cancelled' and 'no cars available' as it leads to potential loss of revenue. We observed the hightest value of:\n",
    "\n",
    "     - Status: **\"No Cars Available\"** in Night Rush between 5 to 10 PM from Airport to City\n",
    "     - Status: **\"Cancelled Trip\"** in Morning Rush between 5 to 10 AM from City to Airport\n",
    "--------\n",
    "- The above points are in sync with highest request rates coming from morning and Night slot.\n",
    "   1. Morning hours :There is no high demand for cabs from airport to city \n",
    "   2. Night hours: There is no high demand for cabs from city to airport\n",
    "-------\n",
    "- **This tells us that there are more outbound flights in the morning and inbound flights in the Night.**\n",
    "- **The reason for the issue:**\n",
    "    1. **In the morning hours:**\n",
    "        - Though there is high demand for cabs from city to airport, the vice versa is not true.\n",
    "        - Hence the driver tends to 'cancel' the request as getting a return trip from airport to city would be tough.\n",
    "\n",
    "    2. **In the Night hours:**\n",
    "        - Though there is high demand for cabs from airport to city, the vice versa is not true.\n",
    "        - Hence 'no cars available' in the airport is the hightest in the evening.\n",
    "----------\n",
    "- **Possible suggestions to fill the supply demand gap:**\n",
    "    - Provide incentives for airport trips during peak time.\n",
    "    - Assigning few extra cabs specially to the airport trips.\n",
    "    - Fixing a base price for drivers idle time in the airport or to come back to the city without any passenger.\n",
    "    - Impose penalty for cancellation of requests by the drivers. Set a threshold for the maximum cancellation per day.\n",
    "    - Promote continuous trip to airport with incentives.\n",
    "    - Promote advance booking to airports and at the same time keeping drivers updated will the flight schedule with help   them plan their work and they can accept the request as per their work plan."
   ]
  }
 ],
 "metadata": {
  "kernelspec": {
   "display_name": "Python 3 (ipykernel)",
   "language": "python",
   "name": "python3"
  },
  "language_info": {
   "codemirror_mode": {
    "name": "ipython",
    "version": 3
   },
   "file_extension": ".py",
   "mimetype": "text/x-python",
   "name": "python",
   "nbconvert_exporter": "python",
   "pygments_lexer": "ipython3",
   "version": "3.9.7"
  }
 },
 "nbformat": 4,
 "nbformat_minor": 5
}
